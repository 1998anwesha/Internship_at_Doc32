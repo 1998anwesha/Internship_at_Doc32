{
 "cells": [
  {
   "cell_type": "code",
   "execution_count": 9,
   "metadata": {},
   "outputs": [],
   "source": [
    "# import the necessary packages\n",
    "import numpy as np\n",
    "from matplotlib import pyplot as plt\n",
    "import argparse\n",
    "import imutils\n",
    "import glob\n",
    "import cv2\n"
   ]
  },
  {
   "cell_type": "code",
   "execution_count": 9,
   "metadata": {},
   "outputs": [],
   "source": [
    "cv2.destroyAllWindows()"
   ]
  },
  {
   "cell_type": "code",
   "execution_count": 53,
   "metadata": {},
   "outputs": [],
   "source": [
    "def resize(img):\n",
    "    print('Original Dimensions : ',img.shape)\n",
    " \n",
    "    scale_percent =60 # percent of original size\n",
    "    width = int(img.shape[1] * scale_percent / 100)\n",
    "    height = int(img.shape[0] * scale_percent / 100)\n",
    "    dim = (width, height)\n",
    "    # resize image\n",
    "    resized = cv2.resize(img, dim, interpolation = cv2.INTER_AREA)\n",
    " \n",
    "    print('Resized Dimensions : ',resized.shape)\n",
    "    return resized"
   ]
  },
  {
   "cell_type": "code",
   "execution_count": 18,
   "metadata": {},
   "outputs": [],
   "source": [
    "def erode(img):\n",
    "    #edged = cv2.Canny(img,0,50)\n",
    "    #blurred = cv2.GaussianBlur(img, (5, 5), 0)\n",
    "    edged = cv2.Canny(cv2.GaussianBlur(img, (5, 5), 0),0,50)\n",
    "    kernel = np.ones((5,5))\n",
    "    Dilate = cv2.dilate(edged, kernel, iterations = 1)\n",
    "    erode = cv2.erode(Dilate, kernel, iterations = 1)\n",
    "    plt.imshow(erode)\n",
    "    return erode"
   ]
  },
  {
   "cell_type": "code",
   "execution_count": 19,
   "metadata": {},
   "outputs": [
    {
     "name": "stdout",
     "output_type": "stream",
     "text": [
      "Original Dimensions :  (348, 627)\n",
      "Resized Dimensions :  (139, 250)\n"
     ]
    },
    {
     "data": {
      "text/plain": [
       "-1"
      ]
     },
     "execution_count": 19,
     "metadata": {},
     "output_type": "execute_result"
    }
   ],
   "source": [
    "# load the image image, convert it to grayscale, and detect edges\n",
    "template = cv2.imread(\"image2.jpg\")\n",
    "template = cv2.cvtColor(template, cv2.COLOR_BGR2GRAY)\n",
    "template = resize(template)\n",
    "#template = erode(template)\n",
    "\n",
    "#template = cv2.Canny(template, 0, 50)\n",
    "(tH, tW) = template.shape[:2]\n",
    "cv2.imshow(\"Template\", template)\n",
    "cv2.waitKey(0)"
   ]
  },
  {
   "cell_type": "code",
   "execution_count": 20,
   "metadata": {},
   "outputs": [],
   "source": [
    "image = cv2.imread(\"face1.jpg\")\n",
    "gray = cv2.cvtColor(image, cv2.COLOR_BGR2GRAY)\n",
    "found = None\n",
    "# loop over the scales of the image\n",
    "for scale in np.linspace(0.2, 1.0, 20)[::-1]:\n",
    "\n",
    "    resized = imutils.resize(gray, width = int(gray.shape[1] * scale))\n",
    "    r = gray.shape[1] / float(resized.shape[1])\n",
    "\n",
    "    if resized.shape[0] < tH or resized.shape[1] < tW:\n",
    "        print(resized.shape)\n",
    "        break\n",
    "    #else:\n",
    "    #    resized=resize(gray)\n",
    "    #    break\n",
    "        \n",
    "        \n",
    "        \n",
    "#edged = cv2.Canny(resized, 0, 50)\n",
    "edged=resized\n",
    "result = cv2.matchTemplate(edged, template, cv2.TM_CCOEFF)\n",
    "(_, maxVal, _, maxLoc) = cv2.minMaxLoc(result)\n",
    "\n",
    "\n"
   ]
  },
  {
   "cell_type": "code",
   "execution_count": 21,
   "metadata": {},
   "outputs": [],
   "source": [
    "# draw a bounding box around the detected region\n",
    "clone = np.dstack([edged, edged, edged])\n",
    "cv2.rectangle(clone, (maxLoc[0], maxLoc[1]),(maxLoc[0] + tW, maxLoc[1] + tH), (0, 0, 255), 2)\n",
    "cv2.imshow(\"Visualize\", clone)\n",
    "cv2.waitKey(0)\n",
    "# if we have found a new maximum correlation value, then update the bookkeeping variable\n",
    "if found is None or maxVal > found[0]:\n",
    "    found = (maxVal, maxLoc, r)\n"
   ]
  },
  {
   "cell_type": "markdown",
   "metadata": {},
   "source": [
    "# Feature Matching"
   ]
  },
  {
   "cell_type": "code",
   "execution_count": 91,
   "metadata": {},
   "outputs": [
    {
     "name": "stdout",
     "output_type": "stream",
     "text": [
      "Original Dimensions :  (345, 635)\n",
      "Resized Dimensions :  (207, 381)\n",
      "Original Dimensions :  (2424, 2760)\n",
      "Resized Dimensions :  (1454, 1656)\n"
     ]
    }
   ],
   "source": [
    "import numpy as np\n",
    "import cv2\n",
    "from matplotlib import pyplot as plt\n",
    "\n",
    "img1 = cv2.imread('image4.jpg',0)  # queryImage\n",
    "img1 = resize(img1)\n",
    "img2 = cv2.imread('face5.jpg',0) # trainImage\n",
    "img2 = resize(img2)\n",
    "\n",
    "# Initiate SIFT detector\n",
    "orb = cv2.ORB()\n",
    "orb = cv2.ORB_create(scoreType=cv2.ORB_FAST_SCORE)\n",
    "orb = cv2.ORB_create(nfeatures=100, scoreType=cv2.ORB_FAST_SCORE)\n",
    "# find the keypoints and descriptors with SIFT\n",
    "#kp1, des1 = orb.detectAndCompute(img1,None)\n",
    "#kp2, des2 = orb.detectAndCompute(img2,None)"
   ]
  },
  {
   "cell_type": "code",
   "execution_count": 92,
   "metadata": {},
   "outputs": [],
   "source": [
    "kp1, des1 = orb.detectAndCompute(img1,None)\n",
    "kp2, des2 = orb.detectAndCompute(img2,None)\n",
    "# find the keypoints with ORB\n",
    "#kp = orb.detect(img1,None)"
   ]
  },
  {
   "cell_type": "code",
   "execution_count": 93,
   "metadata": {},
   "outputs": [],
   "source": [
    "bf = cv2.BFMatcher(cv2.NORM_HAMMING, crossCheck=True)\n",
    "matches=bf.match(des1,des2)"
   ]
  },
  {
   "cell_type": "code",
   "execution_count": 94,
   "metadata": {},
   "outputs": [
    {
     "data": {
      "text/plain": [
       "-1"
      ]
     },
     "execution_count": 94,
     "metadata": {},
     "output_type": "execute_result"
    }
   ],
   "source": [
    "\n",
    "final_img = cv2.drawMatches(img1, kp1,img2, kp2, matches,None) \n",
    "   \n",
    "final_img = cv2.resize(final_img, (1000,650)) \n",
    "  \n",
    "# Show the final image \n",
    "cv2.imshow(\"Matches\", final_img) \n",
    "cv2.waitKey(0) "
   ]
  },
  {
   "cell_type": "code",
   "execution_count": 71,
   "metadata": {},
   "outputs": [],
   "source": [
    "cv2.destroyAllWindows()"
   ]
  },
  {
   "cell_type": "code",
   "execution_count": 72,
   "metadata": {},
   "outputs": [
    {
     "data": {
      "text/plain": [
       "[<DMatch 00000190CF07B770>,\n",
       " <DMatch 00000190CF07BAF0>,\n",
       " <DMatch 00000190CF07B8B0>,\n",
       " <DMatch 00000190CF07B9F0>,\n",
       " <DMatch 00000190CF07BB10>,\n",
       " <DMatch 00000190CF07B730>,\n",
       " <DMatch 00000190CF07BC30>,\n",
       " <DMatch 00000190CF07BC70>,\n",
       " <DMatch 00000190CF07BC90>,\n",
       " <DMatch 00000190CF07BCB0>,\n",
       " <DMatch 00000190CF07BCD0>,\n",
       " <DMatch 00000190CF07BCF0>,\n",
       " <DMatch 00000190CF07BD10>,\n",
       " <DMatch 00000190CF07BD30>,\n",
       " <DMatch 00000190CF07BD50>,\n",
       " <DMatch 00000190CF07BD70>,\n",
       " <DMatch 00000190CF07BD90>,\n",
       " <DMatch 00000190CF07BDB0>,\n",
       " <DMatch 00000190CF07BDD0>,\n",
       " <DMatch 00000190CF07BDF0>,\n",
       " <DMatch 00000190CF07BE10>,\n",
       " <DMatch 00000190CF07BE30>,\n",
       " <DMatch 00000190CF07BE50>,\n",
       " <DMatch 00000190CF07BE70>,\n",
       " <DMatch 00000190CF07BE90>,\n",
       " <DMatch 00000190CF07BEB0>,\n",
       " <DMatch 00000190CF07BED0>,\n",
       " <DMatch 00000190CF07BEF0>,\n",
       " <DMatch 00000190CF07BF10>,\n",
       " <DMatch 00000190CF07BF30>,\n",
       " <DMatch 00000190CF07BF50>,\n",
       " <DMatch 00000190CF07BF70>,\n",
       " <DMatch 00000190CF07BF90>,\n",
       " <DMatch 00000190CF07BFB0>,\n",
       " <DMatch 00000190CF07BFD0>,\n",
       " <DMatch 00000190C7619710>,\n",
       " <DMatch 00000190B757CCB0>,\n",
       " <DMatch 00000190B757CCD0>,\n",
       " <DMatch 00000190CEEED110>,\n",
       " <DMatch 00000190CEEED090>,\n",
       " <DMatch 00000190CEEED0B0>,\n",
       " <DMatch 00000190CEEED0D0>,\n",
       " <DMatch 00000190CEEED0F0>,\n",
       " <DMatch 00000190CEF1B110>,\n",
       " <DMatch 00000190CEF1B2B0>,\n",
       " <DMatch 00000190CEF1B1F0>,\n",
       " <DMatch 00000190CEF1B230>,\n",
       " <DMatch 00000190CEF1B290>,\n",
       " <DMatch 00000190CEF1B210>,\n",
       " <DMatch 00000190CEF1B1B0>,\n",
       " <DMatch 00000190CEF1B410>,\n",
       " <DMatch 00000190CEF1B150>,\n",
       " <DMatch 00000190CEF1B2F0>,\n",
       " <DMatch 00000190CF082B50>,\n",
       " <DMatch 00000190CF082D50>,\n",
       " <DMatch 00000190CF082E70>,\n",
       " <DMatch 00000190CF082B10>,\n",
       " <DMatch 00000190CF082E10>,\n",
       " <DMatch 00000190CF082B30>,\n",
       " <DMatch 00000190CF082BB0>,\n",
       " <DMatch 00000190CF082CD0>,\n",
       " <DMatch 00000190CF082BF0>,\n",
       " <DMatch 00000190CF082C90>,\n",
       " <DMatch 00000190CF082030>,\n",
       " <DMatch 00000190CF082050>,\n",
       " <DMatch 00000190CF082070>,\n",
       " <DMatch 00000190CF082090>,\n",
       " <DMatch 00000190CF0820B0>,\n",
       " <DMatch 00000190CF0820D0>,\n",
       " <DMatch 00000190CF0820F0>,\n",
       " <DMatch 00000190CF082110>,\n",
       " <DMatch 00000190CF082130>,\n",
       " <DMatch 00000190CF082150>,\n",
       " <DMatch 00000190CF082170>,\n",
       " <DMatch 00000190CF082190>,\n",
       " <DMatch 00000190CF0821B0>,\n",
       " <DMatch 00000190CF0821D0>,\n",
       " <DMatch 00000190CF0821F0>,\n",
       " <DMatch 00000190CF082210>,\n",
       " <DMatch 00000190CF082230>,\n",
       " <DMatch 00000190CF082250>,\n",
       " <DMatch 00000190CF082270>,\n",
       " <DMatch 00000190CF082290>,\n",
       " <DMatch 00000190CF0822B0>,\n",
       " <DMatch 00000190CF0822D0>,\n",
       " <DMatch 00000190CF0822F0>,\n",
       " <DMatch 00000190CF082310>,\n",
       " <DMatch 00000190CF082330>,\n",
       " <DMatch 00000190CF082350>,\n",
       " <DMatch 00000190CF082370>,\n",
       " <DMatch 00000190CF082390>,\n",
       " <DMatch 00000190CF0823B0>,\n",
       " <DMatch 00000190CF0823D0>,\n",
       " <DMatch 00000190CF0823F0>,\n",
       " <DMatch 00000190CF082410>,\n",
       " <DMatch 00000190CF082430>,\n",
       " <DMatch 00000190CF082450>,\n",
       " <DMatch 00000190CF082470>,\n",
       " <DMatch 00000190CF082490>,\n",
       " <DMatch 00000190CF0824B0>,\n",
       " <DMatch 00000190CF0824D0>,\n",
       " <DMatch 00000190CF0824F0>,\n",
       " <DMatch 00000190CF082510>,\n",
       " <DMatch 00000190CF082530>,\n",
       " <DMatch 00000190CF082550>,\n",
       " <DMatch 00000190CF082570>,\n",
       " <DMatch 00000190CF082590>,\n",
       " <DMatch 00000190CF0825B0>,\n",
       " <DMatch 00000190CF17FCB0>,\n",
       " <DMatch 00000190CF17FCD0>,\n",
       " <DMatch 00000190CF17FCF0>]"
      ]
     },
     "execution_count": 72,
     "metadata": {},
     "output_type": "execute_result"
    }
   ],
   "source": [
    "matches"
   ]
  },
  {
   "cell_type": "code",
   "execution_count": null,
   "metadata": {},
   "outputs": [],
   "source": []
  },
  {
   "cell_type": "code",
   "execution_count": 2,
   "metadata": {},
   "outputs": [],
   "source": []
  },
  {
   "cell_type": "code",
   "execution_count": 3,
   "metadata": {},
   "outputs": [],
   "source": []
  },
  {
   "cell_type": "code",
   "execution_count": null,
   "metadata": {},
   "outputs": [],
   "source": []
  },
  {
   "cell_type": "code",
   "execution_count": null,
   "metadata": {},
   "outputs": [],
   "source": []
  },
  {
   "cell_type": "code",
   "execution_count": null,
   "metadata": {},
   "outputs": [],
   "source": []
  },
  {
   "cell_type": "code",
   "execution_count": null,
   "metadata": {},
   "outputs": [],
   "source": []
  },
  {
   "cell_type": "code",
   "execution_count": 29,
   "metadata": {},
   "outputs": [],
   "source": []
  },
  {
   "cell_type": "code",
   "execution_count": null,
   "metadata": {},
   "outputs": [],
   "source": []
  }
 ],
 "metadata": {
  "kernelspec": {
   "display_name": "dlib_env",
   "language": "python",
   "name": "dlib_env"
  },
  "language_info": {
   "codemirror_mode": {
    "name": "ipython",
    "version": 3
   },
   "file_extension": ".py",
   "mimetype": "text/x-python",
   "name": "python",
   "nbconvert_exporter": "python",
   "pygments_lexer": "ipython3",
   "version": "3.6.10"
  }
 },
 "nbformat": 4,
 "nbformat_minor": 4
}
